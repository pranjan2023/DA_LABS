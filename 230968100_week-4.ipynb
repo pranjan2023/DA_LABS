{
 "cells": [
  {
   "cell_type": "code",
   "execution_count": 1,
   "id": "9a6c5ff9",
   "metadata": {},
   "outputs": [],
   "source": [
    "import pandas as pd\n",
    "import numpy as np\n",
    "import matplotlib.pyplot as plt\n",
    "import seaborn as sns\n",
    "import scipy.stats as stats\n",
    "from sklearn.model_selection import train_test_split\n",
    "from sklearn.linear_model import LinearRegression\n",
    "from sklearn.metrics import mean_squared_error, r2_score"
   ]
  },
  {
   "cell_type": "markdown",
   "id": "4f5d12af",
   "metadata": {},
   "source": [
    "# EXERCISE 1: Data Analysis using CEREALS dataset"
   ]
  },
  {
   "cell_type": "code",
   "execution_count": 2,
   "id": "9f007767",
   "metadata": {
    "scrolled": true
   },
   "outputs": [
    {
     "data": {
      "text/html": [
       "<div>\n",
       "<style scoped>\n",
       "    .dataframe tbody tr th:only-of-type {\n",
       "        vertical-align: middle;\n",
       "    }\n",
       "\n",
       "    .dataframe tbody tr th {\n",
       "        vertical-align: top;\n",
       "    }\n",
       "\n",
       "    .dataframe thead th {\n",
       "        text-align: right;\n",
       "    }\n",
       "</style>\n",
       "<table border=\"1\" class=\"dataframe\">\n",
       "  <thead>\n",
       "    <tr style=\"text-align: right;\">\n",
       "      <th></th>\n",
       "      <th>name</th>\n",
       "      <th>mfr</th>\n",
       "      <th>type</th>\n",
       "      <th>calories</th>\n",
       "      <th>protein</th>\n",
       "      <th>fat</th>\n",
       "      <th>sodium</th>\n",
       "      <th>fiber</th>\n",
       "      <th>carbo</th>\n",
       "      <th>sugars</th>\n",
       "      <th>potass</th>\n",
       "      <th>vitamins</th>\n",
       "      <th>shelf</th>\n",
       "      <th>weight</th>\n",
       "      <th>cups</th>\n",
       "      <th>rating</th>\n",
       "    </tr>\n",
       "  </thead>\n",
       "  <tbody>\n",
       "    <tr>\n",
       "      <th>0</th>\n",
       "      <td>100NaturalBran</td>\n",
       "      <td>Q</td>\n",
       "      <td>C</td>\n",
       "      <td>120</td>\n",
       "      <td>3</td>\n",
       "      <td>5</td>\n",
       "      <td>15</td>\n",
       "      <td>2.0</td>\n",
       "      <td>8</td>\n",
       "      <td>8</td>\n",
       "      <td>135</td>\n",
       "      <td>0</td>\n",
       "      <td>3</td>\n",
       "      <td>1.0</td>\n",
       "      <td>1.00</td>\n",
       "      <td>33.983679</td>\n",
       "    </tr>\n",
       "    <tr>\n",
       "      <th>1</th>\n",
       "      <td>All-Bran</td>\n",
       "      <td>K</td>\n",
       "      <td>C</td>\n",
       "      <td>70</td>\n",
       "      <td>4</td>\n",
       "      <td>1</td>\n",
       "      <td>260</td>\n",
       "      <td>9.0</td>\n",
       "      <td>7</td>\n",
       "      <td>5</td>\n",
       "      <td>320</td>\n",
       "      <td>25</td>\n",
       "      <td>3</td>\n",
       "      <td>1.0</td>\n",
       "      <td>0.33</td>\n",
       "      <td>59.425505</td>\n",
       "    </tr>\n",
       "    <tr>\n",
       "      <th>2</th>\n",
       "      <td>All-BranwithExtraFiber</td>\n",
       "      <td>K</td>\n",
       "      <td>C</td>\n",
       "      <td>50</td>\n",
       "      <td>4</td>\n",
       "      <td>0</td>\n",
       "      <td>140</td>\n",
       "      <td>14.0</td>\n",
       "      <td>8</td>\n",
       "      <td>0</td>\n",
       "      <td>330</td>\n",
       "      <td>25</td>\n",
       "      <td>3</td>\n",
       "      <td>1.0</td>\n",
       "      <td>0.50</td>\n",
       "      <td>93.704912</td>\n",
       "    </tr>\n",
       "    <tr>\n",
       "      <th>3</th>\n",
       "      <td>AlmondDelight</td>\n",
       "      <td>R</td>\n",
       "      <td>C</td>\n",
       "      <td>110</td>\n",
       "      <td>2</td>\n",
       "      <td>2</td>\n",
       "      <td>200</td>\n",
       "      <td>1.0</td>\n",
       "      <td>14</td>\n",
       "      <td>8</td>\n",
       "      <td>?</td>\n",
       "      <td>25</td>\n",
       "      <td>3</td>\n",
       "      <td>1.0</td>\n",
       "      <td>0.75</td>\n",
       "      <td>34.384843</td>\n",
       "    </tr>\n",
       "    <tr>\n",
       "      <th>4</th>\n",
       "      <td>AppleCinnamonCheerios</td>\n",
       "      <td>G</td>\n",
       "      <td>C</td>\n",
       "      <td>110</td>\n",
       "      <td>2</td>\n",
       "      <td>2</td>\n",
       "      <td>180</td>\n",
       "      <td>1.5</td>\n",
       "      <td>10.5</td>\n",
       "      <td>10</td>\n",
       "      <td>70</td>\n",
       "      <td>25</td>\n",
       "      <td>1</td>\n",
       "      <td>1.0</td>\n",
       "      <td>0.75</td>\n",
       "      <td>29.509541</td>\n",
       "    </tr>\n",
       "  </tbody>\n",
       "</table>\n",
       "</div>"
      ],
      "text/plain": [
       "                     name mfr type  calories  protein  fat  sodium  fiber  \\\n",
       "0          100NaturalBran   Q    C       120        3    5      15    2.0   \n",
       "1                All-Bran   K    C        70        4    1     260    9.0   \n",
       "2  All-BranwithExtraFiber   K    C        50        4    0     140   14.0   \n",
       "3           AlmondDelight   R    C       110        2    2     200    1.0   \n",
       "4   AppleCinnamonCheerios   G    C       110        2    2     180    1.5   \n",
       "\n",
       "  carbo sugars potass  vitamins  shelf  weight  cups     rating  \n",
       "0     8      8    135         0      3     1.0  1.00  33.983679  \n",
       "1     7      5    320        25      3     1.0  0.33  59.425505  \n",
       "2     8      0    330        25      3     1.0  0.50  93.704912  \n",
       "3    14      8      ?        25      3     1.0  0.75  34.384843  \n",
       "4  10.5     10     70        25      1     1.0  0.75  29.509541  "
      ]
     },
     "execution_count": 2,
     "metadata": {},
     "output_type": "execute_result"
    }
   ],
   "source": [
    "df=pd.read_csv('week_2\\Cereals.csv')\n",
    "df.head()"
   ]
  },
  {
   "cell_type": "markdown",
   "id": "9b20b7e4",
   "metadata": {},
   "source": [
    "### 1. Cross tabulate the type of cereal (hot vs cold) against the manufacturer"
   ]
  },
  {
   "cell_type": "code",
   "execution_count": 3,
   "id": "4f839766",
   "metadata": {},
   "outputs": [
    {
     "data": {
      "text/html": [
       "<div>\n",
       "<style scoped>\n",
       "    .dataframe tbody tr th:only-of-type {\n",
       "        vertical-align: middle;\n",
       "    }\n",
       "\n",
       "    .dataframe tbody tr th {\n",
       "        vertical-align: top;\n",
       "    }\n",
       "\n",
       "    .dataframe thead th {\n",
       "        text-align: right;\n",
       "    }\n",
       "</style>\n",
       "<table border=\"1\" class=\"dataframe\">\n",
       "  <thead>\n",
       "    <tr style=\"text-align: right;\">\n",
       "      <th>mfr</th>\n",
       "      <th>A</th>\n",
       "      <th>G</th>\n",
       "      <th>K</th>\n",
       "      <th>N</th>\n",
       "      <th>P</th>\n",
       "      <th>Q</th>\n",
       "      <th>R</th>\n",
       "    </tr>\n",
       "    <tr>\n",
       "      <th>type</th>\n",
       "      <th></th>\n",
       "      <th></th>\n",
       "      <th></th>\n",
       "      <th></th>\n",
       "      <th></th>\n",
       "      <th></th>\n",
       "      <th></th>\n",
       "    </tr>\n",
       "  </thead>\n",
       "  <tbody>\n",
       "    <tr>\n",
       "      <th>C</th>\n",
       "      <td>0</td>\n",
       "      <td>22</td>\n",
       "      <td>23</td>\n",
       "      <td>4</td>\n",
       "      <td>9</td>\n",
       "      <td>7</td>\n",
       "      <td>8</td>\n",
       "    </tr>\n",
       "    <tr>\n",
       "      <th>H</th>\n",
       "      <td>1</td>\n",
       "      <td>0</td>\n",
       "      <td>0</td>\n",
       "      <td>1</td>\n",
       "      <td>0</td>\n",
       "      <td>1</td>\n",
       "      <td>0</td>\n",
       "    </tr>\n",
       "  </tbody>\n",
       "</table>\n",
       "</div>"
      ],
      "text/plain": [
       "mfr   A   G   K  N  P  Q  R\n",
       "type                       \n",
       "C     0  22  23  4  9  7  8\n",
       "H     1   0   0  1  0  1  0"
      ]
     },
     "execution_count": 3,
     "metadata": {},
     "output_type": "execute_result"
    }
   ],
   "source": [
    "pd.crosstab(df['type'], df['mfr'])"
   ]
  },
  {
   "cell_type": "markdown",
   "id": "e2e136d5",
   "metadata": {},
   "source": [
    "### 2.Which is the cereal with the best rating, worst rating?"
   ]
  },
  {
   "cell_type": "code",
   "execution_count": 4,
   "id": "c002a1f5",
   "metadata": {
    "scrolled": false
   },
   "outputs": [
    {
     "name": "stdout",
     "output_type": "stream",
     "text": [
      "Highest Rated Brand: All-BranwithExtraFiber\n",
      "Lowest Rated Brand: CapnCrunch\n"
     ]
    }
   ],
   "source": [
    "max = df['rating'].max()\n",
    "min = df['rating'].min()\n",
    "top = df[df['rating'] == max]['name'].values[0]\n",
    "bottom=df[df['rating'] == min]['name'].values[0]\n",
    "print(\"Highest Rated Brand: \"+top+\"\\nLowest Rated Brand: \"+bottom)"
   ]
  },
  {
   "cell_type": "markdown",
   "id": "ab892df9",
   "metadata": {},
   "source": [
    "### 3. Plot a side-by-side boxplot comparing the consumer rating of hot vs. cold cereals. "
   ]
  },
  {
   "cell_type": "code",
   "execution_count": 5,
   "id": "1899acd8",
   "metadata": {},
   "outputs": [
    {
     "data": {
      "image/png": "[encoded data removed]",
      "text/plain": [
       "<Figure size 720x432 with 1 Axes>"
      ]
     },
     "metadata": {
      "needs_background": "light"
     },
     "output_type": "display_data"
    }
   ],
   "source": [
    "plt.figure(figsize=(10, 6))\n",
    "sns.boxplot(x='type', y='rating', data=df)\n",
    "plt.title('Consumer Ratings of Hot vs. Cold Cereals')\n",
    "plt.xlabel('Type of Cereal')\n",
    "plt.ylabel('Consumer Rating')\n",
    "plt.show()"
   ]
  },
  {
   "cell_type": "markdown",
   "id": "d6ef8819",
   "metadata": {},
   "source": [
    "### 4. Is there a relation between sugars, calories, carbs, and fat?"
   ]
  },
  {
   "cell_type": "code",
   "execution_count": 6,
   "id": "6da0b06b",
   "metadata": {},
   "outputs": [],
   "source": [
    "df['sugars'] = pd.to_numeric(df['sugars'], errors='coerce')\n",
    "df['carbo'] = pd.to_numeric(df['carbo'], errors='coerce')"
   ]
  },
  {
   "cell_type": "code",
   "execution_count": 7,
   "id": "856ec622",
   "metadata": {
    "scrolled": true
   },
   "outputs": [
    {
     "data": {
      "text/html": [
       "<div>\n",
       "<style scoped>\n",
       "    .dataframe tbody tr th:only-of-type {\n",
       "        vertical-align: middle;\n",
       "    }\n",
       "\n",
       "    .dataframe tbody tr th {\n",
       "        vertical-align: top;\n",
       "    }\n",
       "\n",
       "    .dataframe thead th {\n",
       "        text-align: right;\n",
       "    }\n",
       "</style>\n",
       "<table border=\"1\" class=\"dataframe\">\n",
       "  <thead>\n",
       "    <tr style=\"text-align: right;\">\n",
       "      <th></th>\n",
       "      <th>sugars</th>\n",
       "      <th>carbo</th>\n",
       "      <th>calories</th>\n",
       "      <th>fat</th>\n",
       "    </tr>\n",
       "  </thead>\n",
       "  <tbody>\n",
       "    <tr>\n",
       "      <th>sugars</th>\n",
       "      <td>1.000000</td>\n",
       "      <td>-0.501086</td>\n",
       "      <td>0.574758</td>\n",
       "      <td>0.302610</td>\n",
       "    </tr>\n",
       "    <tr>\n",
       "      <th>carbo</th>\n",
       "      <td>-0.501086</td>\n",
       "      <td>1.000000</td>\n",
       "      <td>0.207539</td>\n",
       "      <td>-0.313635</td>\n",
       "    </tr>\n",
       "    <tr>\n",
       "      <th>calories</th>\n",
       "      <td>0.574758</td>\n",
       "      <td>0.207539</td>\n",
       "      <td>1.000000</td>\n",
       "      <td>0.510630</td>\n",
       "    </tr>\n",
       "    <tr>\n",
       "      <th>fat</th>\n",
       "      <td>0.302610</td>\n",
       "      <td>-0.313635</td>\n",
       "      <td>0.510630</td>\n",
       "      <td>1.000000</td>\n",
       "    </tr>\n",
       "  </tbody>\n",
       "</table>\n",
       "</div>"
      ],
      "text/plain": [
       "            sugars     carbo  calories       fat\n",
       "sugars    1.000000 -0.501086  0.574758  0.302610\n",
       "carbo    -0.501086  1.000000  0.207539 -0.313635\n",
       "calories  0.574758  0.207539  1.000000  0.510630\n",
       "fat       0.302610 -0.313635  0.510630  1.000000"
      ]
     },
     "execution_count": 7,
     "metadata": {},
     "output_type": "execute_result"
    }
   ],
   "source": [
    "columns_of_interest = ['sugars', 'carbo', 'calories', 'fat']\n",
    "df_subset = df[columns_of_interest]\n",
    "df_subset.corr()"
   ]
  },
  {
   "cell_type": "markdown",
   "id": "2ee53c18",
   "metadata": {},
   "source": [
    "### 5.Which manufacturers produce cereal with highest calories?"
   ]
  },
  {
   "cell_type": "code",
   "execution_count": 8,
   "id": "358b1eb1",
   "metadata": {},
   "outputs": [
    {
     "name": "stdout",
     "output_type": "stream",
     "text": [
      "Highest Caloric Brand: MueslixCrispyBlend\n",
      "Lowest Caloric Brand: All-BranwithExtraFiber\n"
     ]
    }
   ],
   "source": [
    "max = df['calories'].max()\n",
    "min = df['calories'].min()\n",
    "top = df[df['calories'] == max]['name'].values[0]\n",
    "bottom=df[df['calories'] == min]['name'].values[0]\n",
    "print(\"Highest Caloric Brand: \"+top+\"\\nLowest Caloric Brand: \"+bottom)"
   ]
  },
  {
   "cell_type": "markdown",
   "id": "ac5b3596",
   "metadata": {},
   "source": [
    "### 6. Use correlation tests and visualization to identify if the two variables calories and consumer rating associated?"
   ]
  },
  {
   "cell_type": "code",
   "execution_count": 9,
   "id": "c5a2a08e",
   "metadata": {},
   "outputs": [
    {
     "name": "stdout",
     "output_type": "stream",
     "text": [
      "Pearson Correlation Coefficient: -0.67\n",
      "P-value: 0.0000\n"
     ]
    }
   ],
   "source": [
    "corr_coefficient, p_value = stats.pearsonr(df['calories'], df['rating'])\n",
    "print(f'Pearson Correlation Coefficient: {corr_coefficient:.2f}')\n",
    "print(f'P-value: {p_value:.4f}')"
   ]
  },
  {
   "cell_type": "code",
   "execution_count": 10,
   "id": "082dc0a6",
   "metadata": {},
   "outputs": [
    {
     "data": {
      "image/png": "[encoded data removed]",
      "text/plain": [
       "<Figure size 720x432 with 1 Axes>"
      ]
     },
     "metadata": {
      "needs_background": "light"
     },
     "output_type": "display_data"
    }
   ],
   "source": [
    "plt.figure(figsize=(10, 6))\n",
    "sns.regplot(x='calories', y='rating', data=df, ci=None)\n",
    "plt.title('Scatter Plot of Calories vs. Consumer Rating')\n",
    "plt.xlabel('Calories')\n",
    "plt.ylabel('Consumer Rating')\n",
    "plt.show()"
   ]
  },
  {
   "cell_type": "markdown",
   "id": "6c658cb1",
   "metadata": {},
   "source": [
    "### 7.Use correlation tests and visualization to identify if the two variables shelf and consumer rating associated?"
   ]
  },
  {
   "cell_type": "code",
   "execution_count": 11,
   "id": "f215e729",
   "metadata": {},
   "outputs": [
    {
     "name": "stdout",
     "output_type": "stream",
     "text": [
      "Pearson Correlation Coefficient: 0.00\n",
      "P-value: 0.9865\n"
     ]
    }
   ],
   "source": [
    "corr_coefficient, p_value = stats.pearsonr(df['shelf'], df['rating'])\n",
    "print(f'Pearson Correlation Coefficient: {corr_coefficient:.2f}')\n",
    "print(f'P-value: {p_value:.4f}')"
   ]
  },
  {
   "cell_type": "code",
   "execution_count": 12,
   "id": "550a77ae",
   "metadata": {},
   "outputs": [
    {
     "data": {
      "image/png": "[encoded data removed]",
      "text/plain": [
       "<Figure size 720x432 with 1 Axes>"
      ]
     },
     "metadata": {
      "needs_background": "light"
     },
     "output_type": "display_data"
    }
   ],
   "source": [
    "plt.figure(figsize=(10, 6))\n",
    "sns.regplot(x='shelf', y='rating', data=df, ci=None)\n",
    "plt.title('Scatter Plot of Calories vs. Consumer Rating')\n",
    "plt.xlabel('Shelf')\n",
    "plt.ylabel('Consumer Rating')\n",
    "plt.show()"
   ]
  },
  {
   "cell_type": "markdown",
   "id": "952f5299",
   "metadata": {},
   "source": [
    "### 8. Is there a relation between manufacturer and rating?"
   ]
  },
  {
   "cell_type": "code",
   "execution_count": 13,
   "id": "e5120aff",
   "metadata": {
    "scrolled": true
   },
   "outputs": [
    {
     "data": {
      "image/png": "[encoded data removed]",
      "text/plain": [
       "<Figure size 720x432 with 1 Axes>"
      ]
     },
     "metadata": {
      "needs_background": "light"
     },
     "output_type": "display_data"
    }
   ],
   "source": [
    "plt.figure(figsize=(10, 6))\n",
    "sns.boxplot(x='mfr', y='rating', data=df, palette='Set2')\n",
    "plt.title('Box Plot of Consumer Ratings by Manufacturer')\n",
    "plt.xlabel('Manufacturer')\n",
    "plt.ylabel('Consumer Rating')\n",
    "plt.show()"
   ]
  },
  {
   "cell_type": "markdown",
   "id": "62644eae",
   "metadata": {},
   "source": [
    "This shows that there is a relation between the manufacturer and rating as \"N\" has higher ratings then the rest of the group."
   ]
  },
  {
   "cell_type": "markdown",
   "id": "f3504d28",
   "metadata": {},
   "source": [
    "### 9.Which nutrients are essential for a good rating for a cereal?"
   ]
  },
  {
   "cell_type": "code",
   "execution_count": 14,
   "id": "0ea5be05",
   "metadata": {},
   "outputs": [
    {
     "name": "stdout",
     "output_type": "stream",
     "text": [
      "<class 'pandas.core.frame.DataFrame'>\n",
      "RangeIndex: 76 entries, 0 to 75\n",
      "Data columns (total 16 columns):\n",
      " #   Column    Non-Null Count  Dtype  \n",
      "---  ------    --------------  -----  \n",
      " 0   name      76 non-null     object \n",
      " 1   mfr       76 non-null     object \n",
      " 2   type      76 non-null     object \n",
      " 3   calories  76 non-null     int64  \n",
      " 4   protein   76 non-null     int64  \n",
      " 5   fat       76 non-null     int64  \n",
      " 6   sodium    76 non-null     int64  \n",
      " 7   fiber     76 non-null     float64\n",
      " 8   carbo     75 non-null     float64\n",
      " 9   sugars    75 non-null     float64\n",
      " 10  potass    76 non-null     object \n",
      " 11  vitamins  76 non-null     int64  \n",
      " 12  shelf     76 non-null     int64  \n",
      " 13  weight    76 non-null     float64\n",
      " 14  cups      76 non-null     float64\n",
      " 15  rating    76 non-null     float64\n",
      "dtypes: float64(6), int64(6), object(4)\n",
      "memory usage: 9.6+ KB\n"
     ]
    }
   ],
   "source": [
    "df.info()"
   ]
  },
  {
   "cell_type": "code",
   "execution_count": 15,
   "id": "842e136b",
   "metadata": {},
   "outputs": [
    {
     "name": "stdout",
     "output_type": "stream",
     "text": [
      "protein     0.453683\n",
      "fat        -0.418439\n",
      "sodium     -0.402077\n",
      "fiber       0.557242\n",
      "carbo       0.161357\n",
      "sugars     -0.776181\n",
      "vitamins   -0.242516\n",
      "rating      1.000000\n",
      "Name: rating, dtype: float64\n"
     ]
    }
   ],
   "source": [
    "data= df.iloc[:,4:12]\n",
    "df_subset = pd.concat([data, df[['rating']]], axis=1)\n",
    "correlation_matrix = df_subset.corr()\n",
    "print(correlation_matrix['rating'])"
   ]
  },
  {
   "cell_type": "markdown",
   "id": "98627fe3",
   "metadata": {},
   "source": [
    "### 10. Design a Linear regression model to predict the rating of a cereal based on top 3 related nutrients. Tabulate the accuracy of the model using an 80, 20 split"
   ]
  },
  {
   "cell_type": "code",
   "execution_count": 16,
   "id": "53ed53d0",
   "metadata": {},
   "outputs": [
    {
     "name": "stdout",
     "output_type": "stream",
     "text": [
      "Top 3 related nutrients: ['sugars', 'fiber', 'protein']\n"
     ]
    }
   ],
   "source": [
    "rating_correlation = correlation_matrix['rating'].drop('rating')\n",
    "top_nutrients = rating_correlation.abs().nlargest(3).index.tolist()\n",
    "print(\"Top 3 related nutrients:\", top_nutrients)"
   ]
  },
  {
   "cell_type": "code",
   "execution_count": 17,
   "id": "687a4d81",
   "metadata": {},
   "outputs": [],
   "source": [
    "X = df[top_nutrients]\n",
    "y = df['rating']\n",
    "X_train, X_test, y_train, y_test = train_test_split(X, y, test_size=0.2, random_state=42)"
   ]
  },
  {
   "cell_type": "code",
   "execution_count": 18,
   "id": "88b382bb",
   "metadata": {},
   "outputs": [],
   "source": [
    "X_train = X_train.fillna(0)"
   ]
  },
  {
   "cell_type": "code",
   "execution_count": 19,
   "id": "c91e33e5",
   "metadata": {
    "scrolled": true
   },
   "outputs": [
    {
     "name": "stdout",
     "output_type": "stream",
     "text": [
      "Mean Squared Error: 42.5397352010683\n",
      "R^2 Score: 0.6053439309787277\n"
     ]
    }
   ],
   "source": [
    "model = LinearRegression()\n",
    "model.fit(X_train, y_train)\n",
    "y_pred = model.predict(X_test)\n",
    "mse = mean_squared_error(y_test, y_pred)\n",
    "r2 = r2_score(y_test, y_pred)\n",
    "print(\"Mean Squared Error:\", mse)\n",
    "print(\"R^2 Score:\", r2)"
   ]
  },
  {
   "cell_type": "markdown",
   "id": "2327f2a5",
   "metadata": {},
   "source": [
    "# EXERCISE 2 – Descriptive Analytics and Visualization using Matplotlib, Seaborn: (Cross tabulation, distributions, Multi-variate analysis, Various Plots)"
   ]
  },
  {
   "cell_type": "code",
   "execution_count": 20,
   "id": "24446872",
   "metadata": {},
   "outputs": [],
   "source": [
    "df=pd.read_csv('matches.csv')"
   ]
  },
  {
   "cell_type": "code",
   "execution_count": 21,
   "id": "b0874dd2",
   "metadata": {
    "scrolled": true
   },
   "outputs": [
    {
     "data": {
      "text/html": [
       "<div>\n",
       "<style scoped>\n",
       "    .dataframe tbody tr th:only-of-type {\n",
       "        vertical-align: middle;\n",
       "    }\n",
       "\n",
       "    .dataframe tbody tr th {\n",
       "        vertical-align: top;\n",
       "    }\n",
       "\n",
       "    .dataframe thead th {\n",
       "        text-align: right;\n",
       "    }\n",
       "</style>\n",
       "<table border=\"1\" class=\"dataframe\">\n",
       "  <thead>\n",
       "    <tr style=\"text-align: right;\">\n",
       "      <th></th>\n",
       "      <th>id</th>\n",
       "      <th>season</th>\n",
       "      <th>city</th>\n",
       "      <th>date</th>\n",
       "      <th>team1</th>\n",
       "      <th>team2</th>\n",
       "      <th>toss_winner</th>\n",
       "      <th>toss_decision</th>\n",
       "      <th>result</th>\n",
       "      <th>dl_applied</th>\n",
       "      <th>winner</th>\n",
       "      <th>win_by_runs</th>\n",
       "      <th>win_by_wickets</th>\n",
       "      <th>player_of_match</th>\n",
       "      <th>venue</th>\n",
       "      <th>umpire1</th>\n",
       "      <th>umpire2</th>\n",
       "      <th>umpire3</th>\n",
       "    </tr>\n",
       "  </thead>\n",
       "  <tbody>\n",
       "    <tr>\n",
       "      <th>0</th>\n",
       "      <td>1</td>\n",
       "      <td>2017</td>\n",
       "      <td>Hyderabad</td>\n",
       "      <td>2017-04-05</td>\n",
       "      <td>Sunrisers Hyderabad</td>\n",
       "      <td>Royal Challengers Bangalore</td>\n",
       "      <td>Royal Challengers Bangalore</td>\n",
       "      <td>field</td>\n",
       "      <td>normal</td>\n",
       "      <td>0</td>\n",
       "      <td>Sunrisers Hyderabad</td>\n",
       "      <td>35</td>\n",
       "      <td>0</td>\n",
       "      <td>Yuvraj Singh</td>\n",
       "      <td>Rajiv Gandhi International Stadium, Uppal</td>\n",
       "      <td>AY Dandekar</td>\n",
       "      <td>NJ Llong</td>\n",
       "      <td>NaN</td>\n",
       "    </tr>\n",
       "    <tr>\n",
       "      <th>1</th>\n",
       "      <td>2</td>\n",
       "      <td>2017</td>\n",
       "      <td>Pune</td>\n",
       "      <td>2017-04-06</td>\n",
       "      <td>Mumbai Indians</td>\n",
       "      <td>Rising Pune Supergiant</td>\n",
       "      <td>Rising Pune Supergiant</td>\n",
       "      <td>field</td>\n",
       "      <td>normal</td>\n",
       "      <td>0</td>\n",
       "      <td>Rising Pune Supergiant</td>\n",
       "      <td>0</td>\n",
       "      <td>7</td>\n",
       "      <td>SPD Smith</td>\n",
       "      <td>Maharashtra Cricket Association Stadium</td>\n",
       "      <td>A Nand Kishore</td>\n",
       "      <td>S Ravi</td>\n",
       "      <td>NaN</td>\n",
       "    </tr>\n",
       "    <tr>\n",
       "      <th>2</th>\n",
       "      <td>3</td>\n",
       "      <td>2017</td>\n",
       "      <td>Rajkot</td>\n",
       "      <td>2017-04-07</td>\n",
       "      <td>Gujarat Lions</td>\n",
       "      <td>Kolkata Knight Riders</td>\n",
       "      <td>Kolkata Knight Riders</td>\n",
       "      <td>field</td>\n",
       "      <td>normal</td>\n",
       "      <td>0</td>\n",
       "      <td>Kolkata Knight Riders</td>\n",
       "      <td>0</td>\n",
       "      <td>10</td>\n",
       "      <td>CA Lynn</td>\n",
       "      <td>Saurashtra Cricket Association Stadium</td>\n",
       "      <td>Nitin Menon</td>\n",
       "      <td>CK Nandan</td>\n",
       "      <td>NaN</td>\n",
       "    </tr>\n",
       "    <tr>\n",
       "      <th>3</th>\n",
       "      <td>4</td>\n",
       "      <td>2017</td>\n",
       "      <td>Indore</td>\n",
       "      <td>2017-04-08</td>\n",
       "      <td>Rising Pune Supergiant</td>\n",
       "      <td>Kings XI Punjab</td>\n",
       "      <td>Kings XI Punjab</td>\n",
       "      <td>field</td>\n",
       "      <td>normal</td>\n",
       "      <td>0</td>\n",
       "      <td>Kings XI Punjab</td>\n",
       "      <td>0</td>\n",
       "      <td>6</td>\n",
       "      <td>GJ Maxwell</td>\n",
       "      <td>Holkar Cricket Stadium</td>\n",
       "      <td>AK Chaudhary</td>\n",
       "      <td>C Shamshuddin</td>\n",
       "      <td>NaN</td>\n",
       "    </tr>\n",
       "    <tr>\n",
       "      <th>4</th>\n",
       "      <td>5</td>\n",
       "      <td>2017</td>\n",
       "      <td>Bangalore</td>\n",
       "      <td>2017-04-08</td>\n",
       "      <td>Royal Challengers Bangalore</td>\n",
       "      <td>Delhi Daredevils</td>\n",
       "      <td>Royal Challengers Bangalore</td>\n",
       "      <td>bat</td>\n",
       "      <td>normal</td>\n",
       "      <td>0</td>\n",
       "      <td>Royal Challengers Bangalore</td>\n",
       "      <td>15</td>\n",
       "      <td>0</td>\n",
       "      <td>KM Jadhav</td>\n",
       "      <td>M Chinnaswamy Stadium</td>\n",
       "      <td>NaN</td>\n",
       "      <td>NaN</td>\n",
       "      <td>NaN</td>\n",
       "    </tr>\n",
       "  </tbody>\n",
       "</table>\n",
       "</div>"
      ],
      "text/plain": [
       "   id  season       city        date                        team1  \\\n",
       "0   1    2017  Hyderabad  2017-04-05          Sunrisers Hyderabad   \n",
       "1   2    2017       Pune  2017-04-06               Mumbai Indians   \n",
       "2   3    2017     Rajkot  2017-04-07                Gujarat Lions   \n",
       "3   4    2017     Indore  2017-04-08       Rising Pune Supergiant   \n",
       "4   5    2017  Bangalore  2017-04-08  Royal Challengers Bangalore   \n",
       "\n",
       "                         team2                  toss_winner toss_decision  \\\n",
       "0  Royal Challengers Bangalore  Royal Challengers Bangalore         field   \n",
       "1       Rising Pune Supergiant       Rising Pune Supergiant         field   \n",
       "2        Kolkata Knight Riders        Kolkata Knight Riders         field   \n",
       "3              Kings XI Punjab              Kings XI Punjab         field   \n",
       "4             Delhi Daredevils  Royal Challengers Bangalore           bat   \n",
       "\n",
       "   result  dl_applied                       winner  win_by_runs  \\\n",
       "0  normal           0          Sunrisers Hyderabad           35   \n",
       "1  normal           0       Rising Pune Supergiant            0   \n",
       "2  normal           0        Kolkata Knight Riders            0   \n",
       "3  normal           0              Kings XI Punjab            0   \n",
       "4  normal           0  Royal Challengers Bangalore           15   \n",
       "\n",
       "   win_by_wickets player_of_match                                      venue  \\\n",
       "0               0    Yuvraj Singh  Rajiv Gandhi International Stadium, Uppal   \n",
       "1               7       SPD Smith    Maharashtra Cricket Association Stadium   \n",
       "2              10         CA Lynn     Saurashtra Cricket Association Stadium   \n",
       "3               6      GJ Maxwell                     Holkar Cricket Stadium   \n",
       "4               0       KM Jadhav                      M Chinnaswamy Stadium   \n",
       "\n",
       "          umpire1        umpire2 umpire3  \n",
       "0     AY Dandekar       NJ Llong     NaN  \n",
       "1  A Nand Kishore         S Ravi     NaN  \n",
       "2     Nitin Menon      CK Nandan     NaN  \n",
       "3    AK Chaudhary  C Shamshuddin     NaN  \n",
       "4             NaN            NaN     NaN  "
      ]
     },
     "execution_count": 21,
     "metadata": {},
     "output_type": "execute_result"
    }
   ],
   "source": [
    "df.head()"
   ]
  },
  {
   "cell_type": "markdown",
   "id": "29e006a6",
   "metadata": {},
   "source": [
    "### 1) Count the total number of matches conducted in the year 2008"
   ]
  },
  {
   "cell_type": "code",
   "execution_count": 22,
   "id": "da691b0e",
   "metadata": {},
   "outputs": [
    {
     "data": {
      "text/plain": [
       "58"
      ]
     },
     "execution_count": 22,
     "metadata": {},
     "output_type": "execute_result"
    }
   ],
   "source": [
    "matches_2008 = df[df['season'] == 2008]\n",
    "matches_2008.shape[0]"
   ]
  },
  {
   "cell_type": "markdown",
   "id": "3c641321",
   "metadata": {},
   "source": [
    "### 2) Find the city name where maximum and minimum number of matches conducted"
   ]
  },
  {
   "cell_type": "code",
   "execution_count": 23,
   "id": "4857722e",
   "metadata": {},
   "outputs": [
    {
     "name": "stdout",
     "output_type": "stream",
     "text": [
      "City with highest matches: Mumbai\n",
      "City with lowest matches: Bloemfontein\n"
     ]
    }
   ],
   "source": [
    "city_match = df['city'].value_counts()\n",
    "city_max = city_match.idxmax()\n",
    "city_min = city_match.idxmin()\n",
    "print(\"City with highest matches: \"+city_max+\"\\nCity with lowest matches: \"+city_min)"
   ]
  },
  {
   "cell_type": "markdown",
   "id": "fbb16415",
   "metadata": {},
   "source": [
    "### 3) Find total count of matches city wise."
   ]
  },
  {
   "cell_type": "code",
   "execution_count": 24,
   "id": "75bbd40e",
   "metadata": {},
   "outputs": [
    {
     "data": {
      "text/plain": [
       "Mumbai            101\n",
       "Kolkata            77\n",
       "Delhi              74\n",
       "Bangalore          66\n",
       "Hyderabad          64\n",
       "Chennai            57\n",
       "Jaipur             47\n",
       "Chandigarh         46\n",
       "Pune               38\n",
       "Durban             15\n",
       "Bengaluru          14\n",
       "Visakhapatnam      13\n",
       "Centurion          12\n",
       "Ahmedabad          12\n",
       "Rajkot             10\n",
       "Mohali             10\n",
       "Indore              9\n",
       "Dharamsala          9\n",
       "Johannesburg        8\n",
       "Cuttack             7\n",
       "Ranchi              7\n",
       "Port Elizabeth      7\n",
       "Cape Town           7\n",
       "Abu Dhabi           7\n",
       "Sharjah             6\n",
       "Raipur              6\n",
       "Kochi               5\n",
       "Kanpur              4\n",
       "Nagpur              3\n",
       "Kimberley           3\n",
       "East London         3\n",
       "Bloemfontein        2\n",
       "Name: city, dtype: int64"
      ]
     },
     "execution_count": 24,
     "metadata": {},
     "output_type": "execute_result"
    }
   ],
   "source": [
    "df['city'].value_counts()"
   ]
  },
  {
   "cell_type": "markdown",
   "id": "3bbb96dc",
   "metadata": {},
   "source": [
    "### 4) Find the Team which is maximum and minimum toss winner."
   ]
  },
  {
   "cell_type": "code",
   "execution_count": 25,
   "id": "7bc9bdd5",
   "metadata": {},
   "outputs": [
    {
     "name": "stdout",
     "output_type": "stream",
     "text": [
      "Maximum toss winner: Mumbai Indians\n",
      "Minimum toss winner: Rising Pune Supergiant\n"
     ]
    }
   ],
   "source": [
    "toss_win = df['toss_winner'].value_counts()\n",
    "team_max =toss_win.idxmax()\n",
    "team_min = toss_win.idxmin()\n",
    "print(\"Maximum toss winner: \"+team_max+\"\\nMinimum toss winner: \"+team_min)"
   ]
  },
  {
   "cell_type": "markdown",
   "id": "0ce83a26",
   "metadata": {},
   "source": [
    "### 5) Check the toss decision that the team has taken"
   ]
  },
  {
   "cell_type": "code",
   "execution_count": 26,
   "id": "d712087a",
   "metadata": {},
   "outputs": [
    {
     "data": {
      "text/plain": [
       "field    463\n",
       "bat      293\n",
       "Name: toss_decision, dtype: int64"
      ]
     },
     "execution_count": 26,
     "metadata": {},
     "output_type": "execute_result"
    }
   ],
   "source": [
    " df['toss_decision'].value_counts()"
   ]
  },
  {
   "cell_type": "markdown",
   "id": "fa54ece2",
   "metadata": {},
   "source": [
    "### 6) Count the total number of normal and tie matches."
   ]
  },
  {
   "cell_type": "code",
   "execution_count": 42,
   "id": "27ca743b",
   "metadata": {},
   "outputs": [
    {
     "name": "stdout",
     "output_type": "stream",
     "text": [
      "Teams where the match result was a tie:\n"
     ]
    },
    {
     "data": {
      "text/html": [
       "<div>\n",
       "<style scoped>\n",
       "    .dataframe tbody tr th:only-of-type {\n",
       "        vertical-align: middle;\n",
       "    }\n",
       "\n",
       "    .dataframe tbody tr th {\n",
       "        vertical-align: top;\n",
       "    }\n",
       "\n",
       "    .dataframe thead th {\n",
       "        text-align: right;\n",
       "    }\n",
       "</style>\n",
       "<table border=\"1\" class=\"dataframe\">\n",
       "  <thead>\n",
       "    <tr style=\"text-align: right;\">\n",
       "      <th></th>\n",
       "      <th>id</th>\n",
       "      <th>season</th>\n",
       "      <th>city</th>\n",
       "      <th>date</th>\n",
       "      <th>team1</th>\n",
       "      <th>team2</th>\n",
       "      <th>toss_winner</th>\n",
       "      <th>toss_decision</th>\n",
       "      <th>result</th>\n",
       "      <th>dl_applied</th>\n",
       "      <th>winner</th>\n",
       "      <th>win_by_runs</th>\n",
       "      <th>win_by_wickets</th>\n",
       "      <th>player_of_match</th>\n",
       "      <th>venue</th>\n",
       "      <th>umpire1</th>\n",
       "      <th>umpire2</th>\n",
       "      <th>umpire3</th>\n",
       "    </tr>\n",
       "  </thead>\n",
       "  <tbody>\n",
       "    <tr>\n",
       "      <th>33</th>\n",
       "      <td>34</td>\n",
       "      <td>2017</td>\n",
       "      <td>Rajkot</td>\n",
       "      <td>2017-04-29</td>\n",
       "      <td>Gujarat Lions</td>\n",
       "      <td>Mumbai Indians</td>\n",
       "      <td>Gujarat Lions</td>\n",
       "      <td>bat</td>\n",
       "      <td>tie</td>\n",
       "      <td>0</td>\n",
       "      <td>Mumbai Indians</td>\n",
       "      <td>0</td>\n",
       "      <td>0</td>\n",
       "      <td>KH Pandya</td>\n",
       "      <td>Saurashtra Cricket Association Stadium</td>\n",
       "      <td>AK Chaudhary</td>\n",
       "      <td>CB Gaffaney</td>\n",
       "      <td>NaN</td>\n",
       "    </tr>\n",
       "    <tr>\n",
       "      <th>125</th>\n",
       "      <td>126</td>\n",
       "      <td>2009</td>\n",
       "      <td>Cape Town</td>\n",
       "      <td>2009-04-23</td>\n",
       "      <td>Rajasthan Royals</td>\n",
       "      <td>Kolkata Knight Riders</td>\n",
       "      <td>Kolkata Knight Riders</td>\n",
       "      <td>field</td>\n",
       "      <td>tie</td>\n",
       "      <td>0</td>\n",
       "      <td>Rajasthan Royals</td>\n",
       "      <td>0</td>\n",
       "      <td>0</td>\n",
       "      <td>YK Pathan</td>\n",
       "      <td>Newlands</td>\n",
       "      <td>MR Benson</td>\n",
       "      <td>M Erasmus</td>\n",
       "      <td>NaN</td>\n",
       "    </tr>\n",
       "    <tr>\n",
       "      <th>189</th>\n",
       "      <td>190</td>\n",
       "      <td>2010</td>\n",
       "      <td>Chennai</td>\n",
       "      <td>2010-03-21</td>\n",
       "      <td>Kings XI Punjab</td>\n",
       "      <td>Chennai Super Kings</td>\n",
       "      <td>Chennai Super Kings</td>\n",
       "      <td>field</td>\n",
       "      <td>tie</td>\n",
       "      <td>0</td>\n",
       "      <td>Kings XI Punjab</td>\n",
       "      <td>0</td>\n",
       "      <td>0</td>\n",
       "      <td>J Theron</td>\n",
       "      <td>MA Chidambaram Stadium, Chepauk</td>\n",
       "      <td>K Hariharan</td>\n",
       "      <td>DJ Harper</td>\n",
       "      <td>NaN</td>\n",
       "    </tr>\n",
       "    <tr>\n",
       "      <th>387</th>\n",
       "      <td>388</td>\n",
       "      <td>2013</td>\n",
       "      <td>Hyderabad</td>\n",
       "      <td>2013-04-07</td>\n",
       "      <td>Royal Challengers Bangalore</td>\n",
       "      <td>Sunrisers Hyderabad</td>\n",
       "      <td>Royal Challengers Bangalore</td>\n",
       "      <td>bat</td>\n",
       "      <td>tie</td>\n",
       "      <td>0</td>\n",
       "      <td>Sunrisers Hyderabad</td>\n",
       "      <td>0</td>\n",
       "      <td>0</td>\n",
       "      <td>GH Vihari</td>\n",
       "      <td>Rajiv Gandhi International Stadium, Uppal</td>\n",
       "      <td>AK Chaudhary</td>\n",
       "      <td>S Ravi</td>\n",
       "      <td>NaN</td>\n",
       "    </tr>\n",
       "    <tr>\n",
       "      <th>400</th>\n",
       "      <td>401</td>\n",
       "      <td>2013</td>\n",
       "      <td>Bangalore</td>\n",
       "      <td>2013-04-16</td>\n",
       "      <td>Delhi Daredevils</td>\n",
       "      <td>Royal Challengers Bangalore</td>\n",
       "      <td>Royal Challengers Bangalore</td>\n",
       "      <td>field</td>\n",
       "      <td>tie</td>\n",
       "      <td>0</td>\n",
       "      <td>Royal Challengers Bangalore</td>\n",
       "      <td>0</td>\n",
       "      <td>0</td>\n",
       "      <td>V Kohli</td>\n",
       "      <td>M Chinnaswamy Stadium</td>\n",
       "      <td>M Erasmus</td>\n",
       "      <td>VA Kulkarni</td>\n",
       "      <td>NaN</td>\n",
       "    </tr>\n",
       "    <tr>\n",
       "      <th>475</th>\n",
       "      <td>476</td>\n",
       "      <td>2014</td>\n",
       "      <td>Abu Dhabi</td>\n",
       "      <td>2014-04-29</td>\n",
       "      <td>Rajasthan Royals</td>\n",
       "      <td>Kolkata Knight Riders</td>\n",
       "      <td>Rajasthan Royals</td>\n",
       "      <td>bat</td>\n",
       "      <td>tie</td>\n",
       "      <td>0</td>\n",
       "      <td>Rajasthan Royals</td>\n",
       "      <td>0</td>\n",
       "      <td>0</td>\n",
       "      <td>JP Faulkner</td>\n",
       "      <td>Sheikh Zayed Stadium</td>\n",
       "      <td>Aleem Dar</td>\n",
       "      <td>AK Chaudhary</td>\n",
       "      <td>NaN</td>\n",
       "    </tr>\n",
       "    <tr>\n",
       "      <th>535</th>\n",
       "      <td>536</td>\n",
       "      <td>2015</td>\n",
       "      <td>Ahmedabad</td>\n",
       "      <td>2015-04-21</td>\n",
       "      <td>Rajasthan Royals</td>\n",
       "      <td>Kings XI Punjab</td>\n",
       "      <td>Kings XI Punjab</td>\n",
       "      <td>field</td>\n",
       "      <td>tie</td>\n",
       "      <td>0</td>\n",
       "      <td>Kings XI Punjab</td>\n",
       "      <td>0</td>\n",
       "      <td>0</td>\n",
       "      <td>SE Marsh</td>\n",
       "      <td>Sardar Patel Stadium, Motera</td>\n",
       "      <td>M Erasmus</td>\n",
       "      <td>S Ravi</td>\n",
       "      <td>NaN</td>\n",
       "    </tr>\n",
       "    <tr>\n",
       "      <th>705</th>\n",
       "      <td>11146</td>\n",
       "      <td>2019</td>\n",
       "      <td>Delhi</td>\n",
       "      <td>30/03/19</td>\n",
       "      <td>Kolkata Knight Riders</td>\n",
       "      <td>Delhi Capitals</td>\n",
       "      <td>Delhi Capitals</td>\n",
       "      <td>field</td>\n",
       "      <td>tie</td>\n",
       "      <td>0</td>\n",
       "      <td>Delhi Capitals</td>\n",
       "      <td>0</td>\n",
       "      <td>0</td>\n",
       "      <td>P Shaw</td>\n",
       "      <td>Feroz Shah Kotla Ground</td>\n",
       "      <td>Anil Dandekar</td>\n",
       "      <td>Nitin Menon</td>\n",
       "      <td>Marais Erasmus</td>\n",
       "    </tr>\n",
       "    <tr>\n",
       "      <th>746</th>\n",
       "      <td>11342</td>\n",
       "      <td>2019</td>\n",
       "      <td>Mumbai</td>\n",
       "      <td>02/05/19</td>\n",
       "      <td>Mumbai Indians</td>\n",
       "      <td>Sunrisers Hyderabad</td>\n",
       "      <td>Mumbai Indians</td>\n",
       "      <td>bat</td>\n",
       "      <td>tie</td>\n",
       "      <td>0</td>\n",
       "      <td>Mumbai Indians</td>\n",
       "      <td>0</td>\n",
       "      <td>0</td>\n",
       "      <td>JJ Bumrah</td>\n",
       "      <td>Wankhede Stadium</td>\n",
       "      <td>S Ravi</td>\n",
       "      <td>O Nandan</td>\n",
       "      <td>Nanda Kishore</td>\n",
       "    </tr>\n",
       "  </tbody>\n",
       "</table>\n",
       "</div>"
      ],
      "text/plain": [
       "        id  season       city        date                        team1  \\\n",
       "33      34    2017     Rajkot  2017-04-29                Gujarat Lions   \n",
       "125    126    2009  Cape Town  2009-04-23             Rajasthan Royals   \n",
       "189    190    2010    Chennai  2010-03-21              Kings XI Punjab   \n",
       "387    388    2013  Hyderabad  2013-04-07  Royal Challengers Bangalore   \n",
       "400    401    2013  Bangalore  2013-04-16             Delhi Daredevils   \n",
       "475    476    2014  Abu Dhabi  2014-04-29             Rajasthan Royals   \n",
       "535    536    2015  Ahmedabad  2015-04-21             Rajasthan Royals   \n",
       "705  11146    2019      Delhi    30/03/19        Kolkata Knight Riders   \n",
       "746  11342    2019     Mumbai    02/05/19               Mumbai Indians   \n",
       "\n",
       "                           team2                  toss_winner toss_decision  \\\n",
       "33                Mumbai Indians                Gujarat Lions           bat   \n",
       "125        Kolkata Knight Riders        Kolkata Knight Riders         field   \n",
       "189          Chennai Super Kings          Chennai Super Kings         field   \n",
       "387          Sunrisers Hyderabad  Royal Challengers Bangalore           bat   \n",
       "400  Royal Challengers Bangalore  Royal Challengers Bangalore         field   \n",
       "475        Kolkata Knight Riders             Rajasthan Royals           bat   \n",
       "535              Kings XI Punjab              Kings XI Punjab         field   \n",
       "705               Delhi Capitals               Delhi Capitals         field   \n",
       "746          Sunrisers Hyderabad               Mumbai Indians           bat   \n",
       "\n",
       "    result  dl_applied                       winner  win_by_runs  \\\n",
       "33     tie           0               Mumbai Indians            0   \n",
       "125    tie           0             Rajasthan Royals            0   \n",
       "189    tie           0              Kings XI Punjab            0   \n",
       "387    tie           0          Sunrisers Hyderabad            0   \n",
       "400    tie           0  Royal Challengers Bangalore            0   \n",
       "475    tie           0             Rajasthan Royals            0   \n",
       "535    tie           0              Kings XI Punjab            0   \n",
       "705    tie           0               Delhi Capitals            0   \n",
       "746    tie           0               Mumbai Indians            0   \n",
       "\n",
       "     win_by_wickets player_of_match  \\\n",
       "33                0       KH Pandya   \n",
       "125               0       YK Pathan   \n",
       "189               0        J Theron   \n",
       "387               0       GH Vihari   \n",
       "400               0         V Kohli   \n",
       "475               0     JP Faulkner   \n",
       "535               0        SE Marsh   \n",
       "705               0          P Shaw   \n",
       "746               0       JJ Bumrah   \n",
       "\n",
       "                                         venue        umpire1       umpire2  \\\n",
       "33      Saurashtra Cricket Association Stadium   AK Chaudhary   CB Gaffaney   \n",
       "125                                   Newlands      MR Benson     M Erasmus   \n",
       "189            MA Chidambaram Stadium, Chepauk    K Hariharan     DJ Harper   \n",
       "387  Rajiv Gandhi International Stadium, Uppal   AK Chaudhary        S Ravi   \n",
       "400                      M Chinnaswamy Stadium      M Erasmus   VA Kulkarni   \n",
       "475                       Sheikh Zayed Stadium      Aleem Dar  AK Chaudhary   \n",
       "535               Sardar Patel Stadium, Motera      M Erasmus        S Ravi   \n",
       "705                    Feroz Shah Kotla Ground  Anil Dandekar   Nitin Menon   \n",
       "746                           Wankhede Stadium         S Ravi      O Nandan   \n",
       "\n",
       "            umpire3  \n",
       "33              NaN  \n",
       "125             NaN  \n",
       "189             NaN  \n",
       "387             NaN  \n",
       "400             NaN  \n",
       "475             NaN  \n",
       "535             NaN  \n",
       "705  Marais Erasmus  \n",
       "746   Nanda Kishore  "
      ]
     },
     "execution_count": 42,
     "metadata": {},
     "output_type": "execute_result"
    }
   ],
   "source": [
    "ties = df[df['result'] == 'tie']\n",
    "pd.concat([ties['team1'], ties['team2']]).unique()\n",
    "print(\"Teams where the match result was a tie:\")\n",
    "ties.head(9)"
   ]
  },
  {
   "cell_type": "markdown",
   "id": "c9451b68",
   "metadata": {},
   "source": [
    "### 8) Find the Team Name Who Won the Match by Highest Runs"
   ]
  },
  {
   "cell_type": "code",
   "execution_count": 28,
   "id": "8b01d22a",
   "metadata": {},
   "outputs": [
    {
     "name": "stdout",
     "output_type": "stream",
     "text": [
      "['Mumbai Indians']\n"
     ]
    }
   ],
   "source": [
    "max_runs = df['win_by_runs'].max()\n",
    "team_max_runs = df[df['win_by_runs'] == max_runs]\n",
    "print(team_max_runs['winner'].unique())"
   ]
  },
  {
   "cell_type": "markdown",
   "id": "b71446e6",
   "metadata": {},
   "source": [
    "### 9) Find the team name who won the match by lowest runs."
   ]
  },
  {
   "cell_type": "code",
   "execution_count": 29,
   "id": "d2d68985",
   "metadata": {
    "scrolled": true
   },
   "outputs": [
    {
     "name": "stdout",
     "output_type": "stream",
     "text": [
      "['Rising Pune Supergiant' 'Kolkata Knight Riders' 'Kings XI Punjab'\n",
      " 'Sunrisers Hyderabad' 'Mumbai Indians' 'Gujarat Lions' 'Delhi Daredevils'\n",
      " 'Royal Challengers Bangalore' 'Rajasthan Royals' 'Chennai Super Kings'\n",
      " 'Deccan Chargers' 'Pune Warriors' 'Kochi Tuskers Kerala' nan\n",
      " 'Rising Pune Supergiants' 'Delhi Capitals']\n"
     ]
    }
   ],
   "source": [
    "min_runs = df['win_by_runs'].min()\n",
    "team_min_runs = df[df['win_by_runs'] == min_runs]\n",
    "print(team_min_runs['winner'].unique())"
   ]
  },
  {
   "cell_type": "markdown",
   "id": "75ce6db9",
   "metadata": {},
   "source": [
    "### 10) Find the players who was awarded “Player of the match” more than 3 times"
   ]
  },
  {
   "cell_type": "code",
   "execution_count": 30,
   "id": "8c946f35",
   "metadata": {},
   "outputs": [
    {
     "name": "stdout",
     "output_type": "stream",
     "text": [
      "Players awarded 'Player of the Match' more than 3 times:\n",
      "CH Gayle          21\n",
      "AB de Villiers    20\n",
      "RG Sharma         17\n",
      "MS Dhoni          17\n",
      "DA Warner         17\n",
      "                  ..\n",
      "SK Warne           4\n",
      "CA Lynn            4\n",
      "SS Iyer            4\n",
      "ML Hayden          4\n",
      "KH Pandya          4\n",
      "Name: player_of_match, Length: 65, dtype: int64\n"
     ]
    }
   ],
   "source": [
    "player_counts = df['player_of_match'].value_counts()\n",
    "players_more_than_3 = player_counts[player_counts > 3]\n",
    "\n",
    "print(\"Players awarded 'Player of the Match' more than 3 times:\")\n",
    "print(players_more_than_3)"
   ]
  },
  {
   "cell_type": "markdown",
   "id": "84520368",
   "metadata": {},
   "source": [
    "### 11) Find the player who was awarded as player of the match maximum times."
   ]
  },
  {
   "cell_type": "code",
   "execution_count": 31,
   "id": "7760b4db",
   "metadata": {},
   "outputs": [
    {
     "data": {
      "text/plain": [
       "'CH Gayle'"
      ]
     },
     "execution_count": 31,
     "metadata": {},
     "output_type": "execute_result"
    }
   ],
   "source": [
    "player_counts.idxmax()"
   ]
  },
  {
   "cell_type": "markdown",
   "id": "faac0b1a",
   "metadata": {},
   "source": [
    "### 12) Find the Venue where the team won the match by highest runs"
   ]
  },
  {
   "cell_type": "code",
   "execution_count": 32,
   "id": "3ea801de",
   "metadata": {
    "scrolled": true
   },
   "outputs": [
    {
     "name": "stdout",
     "output_type": "stream",
     "text": [
      "['Feroz Shah Kotla']\n"
     ]
    }
   ],
   "source": [
    "venue_max_runs = df[df['win_by_runs'] == max_runs]['venue'].unique()\n",
    "print(venue_max_runs)"
   ]
  },
  {
   "cell_type": "markdown",
   "id": "0cb93b64",
   "metadata": {},
   "source": [
    "### 13) Find the Venue where the team won the match by lowest runs."
   ]
  },
  {
   "cell_type": "code",
   "execution_count": 33,
   "id": "ed57b5bd",
   "metadata": {
    "scrolled": true
   },
   "outputs": [
    {
     "name": "stdout",
     "output_type": "stream",
     "text": [
      "Venue where the team won by the lowest runs:\n",
      "['Maharashtra Cricket Association Stadium'\n",
      " 'Saurashtra Cricket Association Stadium' 'Holkar Cricket Stadium'\n",
      " 'Rajiv Gandhi International Stadium, Uppal' 'Wankhede Stadium'\n",
      " 'Eden Gardens' 'M Chinnaswamy Stadium' 'Feroz Shah Kotla'\n",
      " 'Punjab Cricket Association IS Bindra Stadium, Mohali' 'Green Park'\n",
      " 'Sawai Mansingh Stadium' 'MA Chidambaram Stadium, Chepauk'\n",
      " 'Dr DY Patil Sports Academy' 'Punjab Cricket Association Stadium, Mohali'\n",
      " 'Newlands' 'Kingsmead' \"St George's Park\" 'SuperSport Park'\n",
      " 'New Wanderers Stadium' 'Buffalo Park' 'De Beers Diamond Oval'\n",
      " 'OUTsurance Oval' 'Sardar Patel Stadium, Motera' 'Brabourne Stadium'\n",
      " 'Vidarbha Cricket Association Stadium, Jamtha'\n",
      " 'Himachal Pradesh Cricket Association Stadium' 'Nehru Stadium'\n",
      " 'Dr. Y.S. Rajasekhara Reddy ACA-VDCA Cricket Stadium'\n",
      " 'Subrata Roy Sahara Stadium' 'Barabati Stadium'\n",
      " 'Shaheed Veer Narayan Singh International Stadium'\n",
      " 'JSCA International Stadium Complex' 'Sharjah Cricket Stadium'\n",
      " 'Sheikh Zayed Stadium' 'Dubai International Cricket Stadium'\n",
      " 'M. A. Chidambaram Stadium' 'Feroz Shah Kotla Ground'\n",
      " 'Rajiv Gandhi Intl. Cricket Stadium' 'IS Bindra Stadium'\n",
      " 'M. Chinnaswamy Stadium' 'ACA-VDCA Stadium']\n"
     ]
    }
   ],
   "source": [
    "venue_min_runs = df[df['win_by_runs'] == min_runs]['venue'].unique()\n",
    "print(\"Venue where the team won by the lowest runs:\")\n",
    "print(venue_min_runs)"
   ]
  },
  {
   "cell_type": "markdown",
   "id": "786d7694",
   "metadata": {},
   "source": [
    "### 14) Find the Umpires Who Did Umpiring Maximum Times"
   ]
  },
  {
   "cell_type": "code",
   "execution_count": 34,
   "id": "976adc15",
   "metadata": {},
   "outputs": [
    {
     "name": "stdout",
     "output_type": "stream",
     "text": [
      "Umpires who did umpiring the most times:\n",
      "S Ravi                     114\n",
      "HDPK Dharmasena             87\n",
      "C Shamshuddin               83\n",
      "AK Chaudhary                58\n",
      "SJA Taufel                  55\n",
      "                          ... \n",
      "Sundaram Ravi                2\n",
      "SD Ranade                    2\n",
      "Subroto Das                  1\n",
      "Nand Kishore                 1\n",
      "Chettithody Shamshuddin      1\n",
      "Length: 76, dtype: int64\n"
     ]
    }
   ],
   "source": [
    "umpire_counts = pd.concat([df['umpire1'], df['umpire2'], df['umpire3'].dropna()]).value_counts()\n",
    "print(\"Umpires who did umpiring the most times:\")\n",
    "print(umpire_counts)"
   ]
  },
  {
   "cell_type": "markdown",
   "id": "d9945f45",
   "metadata": {},
   "source": [
    "### 15) Find the Total matches played in each season\n"
   ]
  },
  {
   "cell_type": "code",
   "execution_count": 35,
   "id": "dcb59247",
   "metadata": {
    "scrolled": true
   },
   "outputs": [
    {
     "name": "stdout",
     "output_type": "stream",
     "text": [
      "Total matches played in each season:\n",
      "2008    58\n",
      "2009    57\n",
      "2010    60\n",
      "2011    73\n",
      "2012    74\n",
      "2013    76\n",
      "2014    60\n",
      "2015    59\n",
      "2016    60\n",
      "2017    59\n",
      "2018    60\n",
      "2019    60\n",
      "Name: season, dtype: int64\n"
     ]
    }
   ],
   "source": [
    "matches_per_season = df['season'].value_counts().sort_index()\n",
    "\n",
    "print(\"Total matches played in each season:\")\n",
    "print(matches_per_season)"
   ]
  },
  {
   "cell_type": "markdown",
   "id": "90b05b8e",
   "metadata": {},
   "source": [
    "### 16) Find the Total runs in each season"
   ]
  },
  {
   "cell_type": "code",
   "execution_count": 44,
   "id": "034fe9e0",
   "metadata": {},
   "outputs": [
    {
     "name": "stdout",
     "output_type": "stream",
     "text": [
      "season\n",
      "2008    58\n",
      "2009    57\n",
      "2010    60\n",
      "2011    73\n",
      "2012    74\n",
      "2013    76\n",
      "2014    60\n",
      "2015    59\n",
      "2016    60\n",
      "2017    59\n",
      "2018    60\n",
      "2019    60\n",
      "dtype: int64\n"
     ]
    }
   ],
   "source": [
    "total_matches_per_season = df.groupby('season').size()\n",
    "print(total_matches_per_season)\n"
   ]
  },
  {
   "cell_type": "markdown",
   "id": "99ea8a76",
   "metadata": {},
   "source": [
    "### 17) No. of tosses won by each team"
   ]
  },
  {
   "cell_type": "code",
   "execution_count": 46,
   "id": "6daec757",
   "metadata": {},
   "outputs": [
    {
     "name": "stdout",
     "output_type": "stream",
     "text": [
      "Mumbai Indians                 98\n",
      "Kolkata Knight Riders          92\n",
      "Chennai Super Kings            89\n",
      "Royal Challengers Bangalore    81\n",
      "Kings XI Punjab                81\n",
      "Delhi Daredevils               80\n",
      "Rajasthan Royals               80\n",
      "Sunrisers Hyderabad            46\n",
      "Deccan Chargers                43\n",
      "Pune Warriors                  20\n",
      "Gujarat Lions                  15\n",
      "Delhi Capitals                 10\n",
      "Kochi Tuskers Kerala            8\n",
      "Rising Pune Supergiants         7\n",
      "Rising Pune Supergiant          6\n",
      "Name: toss_winner, dtype: int64\n"
     ]
    }
   ],
   "source": [
    "toss_wins = df['toss_winner'].value_counts()\n",
    "print(toss_wins)"
   ]
  },
  {
   "cell_type": "markdown",
   "id": "4c150d90",
   "metadata": {},
   "source": [
    "### 18) Visualize the Toss decision across seasons"
   ]
  },
  {
   "cell_type": "code",
   "execution_count": 48,
   "id": "70050de2",
   "metadata": {},
   "outputs": [
    {
     "data": {
      "image/png": "[encoded data removed]",
      "text/plain": [
       "<Figure size 864x432 with 1 Axes>"
      ]
     },
     "metadata": {
      "needs_background": "light"
     },
     "output_type": "display_data"
    }
   ],
   "source": [
    "plt.figure(figsize=(12, 6))\n",
    "sns.countplot(data=df, x='season', hue='toss_decision')\n",
    "plt.title('Toss Decision Across Seasons')\n",
    "plt.xticks(rotation=45)\n",
    "plt.show()\n"
   ]
  },
  {
   "cell_type": "markdown",
   "id": "7c6b45e0",
   "metadata": {},
   "source": [
    "### 19) Find the Dismissal Kind and Visualize using best fit graph\n"
   ]
  },
  {
   "cell_type": "code",
   "execution_count": null,
   "id": "ba81e4f4",
   "metadata": {},
   "outputs": [],
   "source": []
  },
  {
   "cell_type": "markdown",
   "id": "3a52a4b4",
   "metadata": {},
   "source": [
    "### 20) Find the Top 10 run scorers in IPL and Visualize using best fit graph\n"
   ]
  },
  {
   "cell_type": "code",
   "execution_count": null,
   "id": "ab602043",
   "metadata": {},
   "outputs": [],
   "source": []
  },
  {
   "cell_type": "markdown",
   "id": "f3ed6f0c",
   "metadata": {},
   "source": [
    "### 21) Visualize the Highest MOM award winners\n"
   ]
  },
  {
   "cell_type": "code",
   "execution_count": 56,
   "id": "48ba0b28",
   "metadata": {},
   "outputs": [
    {
     "name": "stdout",
     "output_type": "stream",
     "text": [
      "CH Gayle          21\n",
      "AB de Villiers    20\n",
      "RG Sharma         17\n",
      "MS Dhoni          17\n",
      "DA Warner         17\n",
      "YK Pathan         16\n",
      "SR Watson         15\n",
      "SK Raina          14\n",
      "G Gambhir         13\n",
      "MEK Hussey        12\n",
      "Name: player_of_match, dtype: int64\n"
     ]
    },
    {
     "data": {
      "image/png": "[encoded data removed]",
      "text/plain": [
       "<Figure size 864x576 with 1 Axes>"
      ]
     },
     "metadata": {
      "needs_background": "light"
     },
     "output_type": "display_data"
    }
   ],
   "source": [
    "man = df['player_of_match'].value_counts().nlargest(10)\n",
    "print(man)\n",
    "\n",
    "plt.figure(figsize=(12, 8))\n",
    "sns.barplot(x=man.values, y=man.index)\n",
    "plt.title('Top 10 Players with Most Man of the match Awards')\n",
    "plt.show()"
   ]
  },
  {
   "cell_type": "markdown",
   "id": "c23e72db",
   "metadata": {},
   "source": [
    "### 22) Find Total Number of Played Matches by each team\n"
   ]
  },
  {
   "cell_type": "code",
   "execution_count": 57,
   "id": "30b4ef68",
   "metadata": {},
   "outputs": [
    {
     "name": "stdout",
     "output_type": "stream",
     "text": [
      "Mumbai Indians                 187\n",
      "Royal Challengers Bangalore    180\n",
      "Kolkata Knight Riders          178\n",
      "Kings XI Punjab                176\n",
      "Chennai Super Kings            164\n",
      "Delhi Daredevils               161\n",
      "Rajasthan Royals               147\n",
      "Sunrisers Hyderabad            108\n",
      "Deccan Chargers                 75\n",
      "Pune Warriors                   46\n",
      "Gujarat Lions                   30\n",
      "Rising Pune Supergiant          16\n",
      "Delhi Capitals                  16\n",
      "Kochi Tuskers Kerala            14\n",
      "Rising Pune Supergiants         14\n",
      "dtype: int64\n"
     ]
    },
    {
     "name": "stderr",
     "output_type": "stream",
     "text": [
      "C:\\Users\\mca\\AppData\\Local\\Temp\\ipykernel_8824\\3966383780.py:1: FutureWarning: The series.append method is deprecated and will be removed from pandas in a future version. Use pandas.concat instead.\n",
      "  total_matches_by_team = df['team1'].append(df['team2']).value_counts()\n"
     ]
    }
   ],
   "source": [
    "total_matches_by_team = df['team1'].append(df['team2']).value_counts()\n",
    "print(total_matches_by_team)"
   ]
  },
  {
   "cell_type": "markdown",
   "id": "6deb303b",
   "metadata": {},
   "source": [
    "### 23)Compare Total Played Matches vs Winning Matches vs Win Rate"
   ]
  },
  {
   "cell_type": "code",
   "execution_count": 59,
   "id": "f3adf348",
   "metadata": {},
   "outputs": [
    {
     "name": "stdout",
     "output_type": "stream",
     "text": [
      "                             Matches Played  Matches Won  Win Rate\n",
      "Chennai Super Kings                     164          100  0.609756\n",
      "Deccan Chargers                          75           29  0.386667\n",
      "Delhi Capitals                           16           10  0.625000\n",
      "Delhi Daredevils                        161           67  0.416149\n",
      "Gujarat Lions                            30           13  0.433333\n",
      "Kings XI Punjab                         176           82  0.465909\n",
      "Kochi Tuskers Kerala                     14            6  0.428571\n",
      "Kolkata Knight Riders                   178           92  0.516854\n",
      "Mumbai Indians                          187          109  0.582888\n",
      "Pune Warriors                            46           12  0.260870\n",
      "Rajasthan Royals                        147           75  0.510204\n",
      "Rising Pune Supergiant                   16           10  0.625000\n",
      "Rising Pune Supergiants                  14            5  0.357143\n",
      "Royal Challengers Bangalore             180           84  0.466667\n",
      "Sunrisers Hyderabad                     108           58  0.537037\n"
     ]
    },
    {
     "data": {
      "image/png": "[encoded data removed]",
      "text/plain": [
       "<Figure size 864x432 with 1 Axes>"
      ]
     },
     "metadata": {
      "needs_background": "light"
     },
     "output_type": "display_data"
    }
   ],
   "source": [
    "matches_played = total_matches_by_team\n",
    "matches_won = df['winner'].value_counts()\n",
    "win_rate = matches_won / matches_played\n",
    "\n",
    "team_stats = pd.DataFrame({\n",
    "    'Matches Played': matches_played,\n",
    "    'Matches Won': matches_won,\n",
    "    'Win Rate': win_rate\n",
    "}).fillna(0)\n",
    "\n",
    "print(team_stats)\n",
    "\n",
    "team_stats.plot(kind='bar', figsize=(12, 6))\n",
    "plt.title('Total Matches vs Winning Matches vs Win Rate')\n",
    "plt.show()\n"
   ]
  },
  {
   "cell_type": "markdown",
   "id": "c38b7a65",
   "metadata": {},
   "source": [
    "### 24) Find the Distribution of Won the Matches"
   ]
  },
  {
   "cell_type": "code",
   "execution_count": 61,
   "id": "92342c40",
   "metadata": {},
   "outputs": [
    {
     "name": "stdout",
     "output_type": "stream",
     "text": [
      "normal       743\n",
      "tie            9\n",
      "no result      4\n",
      "Name: result, dtype: int64\n"
     ]
    },
    {
     "data": {
      "image/png": "[encoded data removed]",
      "text/plain": [
       "<Figure size 720x432 with 1 Axes>"
      ]
     },
     "metadata": {
      "needs_background": "light"
     },
     "output_type": "display_data"
    }
   ],
   "source": [
    "won_matches_distribution = df['result'].value_counts()\n",
    "print(won_matches_distribution)\n",
    "\n",
    "plt.figure(figsize=(10, 6))\n",
    "sns.barplot(x=won_matches_distribution.index, y=won_matches_distribution.values)\n",
    "plt.title('Distribution of Won Matches')\n",
    "plt.show()\n"
   ]
  },
  {
   "cell_type": "markdown",
   "id": "c4afaa0b",
   "metadata": {},
   "source": [
    "### 25)Ratio between Total Matches and Win Matches\n"
   ]
  },
  {
   "cell_type": "code",
   "execution_count": 62,
   "id": "b8af1a77",
   "metadata": {},
   "outputs": [
    {
     "name": "stdout",
     "output_type": "stream",
     "text": [
      "Chennai Super Kings            0.609756\n",
      "Deccan Chargers                0.386667\n",
      "Delhi Capitals                 0.625000\n",
      "Delhi Daredevils               0.416149\n",
      "Gujarat Lions                  0.433333\n",
      "Kings XI Punjab                0.465909\n",
      "Kochi Tuskers Kerala           0.428571\n",
      "Kolkata Knight Riders          0.516854\n",
      "Mumbai Indians                 0.582888\n",
      "Pune Warriors                  0.260870\n",
      "Rajasthan Royals               0.510204\n",
      "Rising Pune Supergiant         0.625000\n",
      "Rising Pune Supergiants        0.357143\n",
      "Royal Challengers Bangalore    0.466667\n",
      "Sunrisers Hyderabad            0.537037\n",
      "dtype: float64\n"
     ]
    }
   ],
   "source": [
    "win_ratios = matches_won / matches_played\n",
    "print(win_ratios)"
   ]
  },
  {
   "cell_type": "markdown",
   "id": "ba3ecca4",
   "metadata": {},
   "source": [
    "### 26) What is the choice of each team after winning the toss?"
   ]
  },
  {
   "cell_type": "code",
   "execution_count": 65,
   "id": "155572e4",
   "metadata": {},
   "outputs": [
    {
     "name": "stdout",
     "output_type": "stream",
     "text": [
      "toss_decision                bat\n",
      "toss_winner                     \n",
      "Chennai Super Kings           48\n",
      "Deccan Chargers               24\n",
      "Delhi Capitals                 2\n",
      "Delhi Daredevils              29\n",
      "Gujarat Lions                  1\n",
      "Kings XI Punjab               26\n",
      "Kochi Tuskers Kerala           3\n",
      "Kolkata Knight Riders         30\n",
      "Mumbai Indians                44\n",
      "Pune Warriors                 11\n",
      "Rajasthan Royals              32\n",
      "Rising Pune Supergiants        3\n",
      "Royal Challengers Bangalore   20\n",
      "Sunrisers Hyderabad           20\n"
     ]
    },
    {
     "data": {
      "image/png": "[encoded data removed]",
      "text/plain": [
       "<Figure size 864x576 with 1 Axes>"
      ]
     },
     "metadata": {
      "needs_background": "light"
     },
     "output_type": "display_data"
    }
   ],
   "source": [
    "toss_winners_choices = df[df['toss_winner'] == df['team1']]\n",
    "toss_decision_choices = toss_winners_choices.groupby('toss_winner')['toss_decision'].value_counts().unstack()\n",
    "toss_decision_choices = toss_decision_choices.fillna(0)\n",
    "print(toss_decision_choices)\n",
    "\n",
    "toss_decision_choices.plot(kind='bar', stacked=True, figsize=(12, 8))\n",
    "plt.title('Toss Decision Choices of Each Team After Winning the Toss')\n",
    "plt.xlabel('Team')\n",
    "plt.ylabel('Number of Occurrences')\n",
    "plt.xticks(rotation=45)\n",
    "plt.legend(title='Toss Decision')\n",
    "plt.show()\n"
   ]
  }
 ],
 "metadata": {
  "kernelspec": {
   "display_name": "Python 3 (ipykernel)",
   "language": "python",
   "name": "python3"
  },
  "language_info": {
   "codemirror_mode": {
    "name": "ipython",
    "version": 3
   },
   "file_extension": ".py",
   "mimetype": "text/x-python",
   "name": "python",
   "nbconvert_exporter": "python",
   "pygments_lexer": "ipython3",
   "version": "3.11.5"
  }
 },
 "nbformat": 4,
 "nbformat_minor": 5
}
