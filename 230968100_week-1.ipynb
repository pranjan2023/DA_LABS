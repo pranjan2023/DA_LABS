{
 "cells": [
  {
   "cell_type": "markdown",
   "id": "317e1ab5",
   "metadata": {},
   "source": [
    "## Exercise-1"
   ]
  },
  {
   "cell_type": "markdown",
   "id": "63a40256",
   "metadata": {},
   "source": [
    "### Create Python program to find the average of 10 numbers using while loop"
   ]
  },
  {
   "cell_type": "code",
   "execution_count": 1,
   "id": "5c7ca36f",
   "metadata": {
    "scrolled": true
   },
   "outputs": [
    {
     "name": "stdout",
     "output_type": "stream",
     "text": [
      "1\n",
      "1\n",
      "1\n",
      "1\n",
      "1\n",
      "1\n",
      "11\n",
      "1\n",
      "1\n",
      "1\n",
      "1\n",
      "the average is:2.1\n"
     ]
    }
   ],
   "source": [
    "sum=0\n",
    "i=0\n",
    "while(i<11):\n",
    "    i=i+1\n",
    "    a=int(input())\n",
    "    sum=sum+a\n",
    "print(\"the average is:\"+str(sum/10))"
   ]
  },
  {
   "cell_type": "markdown",
   "id": "cdbbafd7",
   "metadata": {},
   "source": [
    "### Create Python program to find the geometric mean of n numbers"
   ]
  },
  {
   "cell_type": "code",
   "execution_count": 2,
   "id": "29e09f16",
   "metadata": {},
   "outputs": [
    {
     "name": "stdout",
     "output_type": "stream",
     "text": [
      "1\n",
      "2\n",
      "the geometric mean is:2.0\n"
     ]
    }
   ],
   "source": [
    "gm=1\n",
    "n=int(input())\n",
    "i=1\n",
    "while(i<n+1):\n",
    "    i=i+1\n",
    "    a=int(input())\n",
    "    gm=gm*a\n",
    "gm=gm**(1/float(n))\n",
    "print(\"the geometric mean is:\"+ str(gm))"
   ]
  },
  {
   "cell_type": "markdown",
   "id": "ffd3726c",
   "metadata": {},
   "source": [
    "### Create Python program to check whether the given integer is a prime number or not"
   ]
  },
  {
   "cell_type": "code",
   "execution_count": 3,
   "id": "1abd38d4",
   "metadata": {},
   "outputs": [
    {
     "name": "stdout",
     "output_type": "stream",
     "text": [
      "3\n"
     ]
    },
    {
     "data": {
      "text/plain": [
       "False"
      ]
     },
     "execution_count": 3,
     "metadata": {},
     "output_type": "execute_result"
    }
   ],
   "source": [
    "def checkprime(a):\n",
    "    for i in range(a//2):\n",
    "        i+=1\n",
    "        if(a%i==0):\n",
    "            return False\n",
    "        i+=1\n",
    "\n",
    "    return True    \n",
    "        \n",
    "checkprime(int(input()))"
   ]
  },
  {
   "cell_type": "markdown",
   "id": "88e5c9aa",
   "metadata": {},
   "source": [
    "### Create Python program to implement linear search and implement binary search"
   ]
  },
  {
   "cell_type": "code",
   "execution_count": 4,
   "id": "228d6a8d",
   "metadata": {},
   "outputs": [
    {
     "name": "stdout",
     "output_type": "stream",
     "text": [
      "5\n",
      "Element is present at index 4for the sorted array\n"
     ]
    }
   ],
   "source": [
    "def linear(arr,x):\n",
    "    for i in range(0,len(arr)):\n",
    "        if (arr[i]==x):\n",
    "            return i\n",
    "    print(\"the element is not present in the array\")\n",
    "\n",
    "\n",
    "\n",
    "def binarySearch(array, x, low, high):\n",
    "    while low <= high:\n",
    "        mid = low + (high - low)//2\n",
    "        if array[mid] == x:\n",
    "            return mid\n",
    "        elif array[mid] < x:\n",
    "            low = mid + 1\n",
    "        else:\n",
    "            high = mid - 1\n",
    "    return -1\n",
    "array = [3, 4, 9, 6, 7, 8, 93]\n",
    "x = 8\n",
    "print(linear(array,x))\n",
    "\n",
    "\n",
    "array.sort()\n",
    "result = binarySearch(array, x, 0, len(array)-1)\n",
    "if result != -1:\n",
    "    print(\"Element is present at index \" + str(result)+\"for the sorted array\")\n",
    "else:\n",
    "    print(\"Not found\")"
   ]
  },
  {
   "cell_type": "markdown",
   "id": "6fe8c3a0",
   "metadata": {},
   "source": [
    "### Using math package, Create Python program to find the area of a triangle whose sides are given"
   ]
  },
  {
   "cell_type": "code",
   "execution_count": 7,
   "id": "6077c592",
   "metadata": {
    "scrolled": true
   },
   "outputs": [
    {
     "name": "stdout",
     "output_type": "stream",
     "text": [
      "6\n",
      "6\n",
      "6\n",
      "the rea is :15.59\n"
     ]
    }
   ],
   "source": [
    "import math\n",
    "a=int(input())\n",
    "b=int(input())\n",
    "c=int(input())\n",
    "s=(a+b+c)/2\n",
    "area=math.sqrt(s*(s-a)*(s-b)*(s-c))\n",
    "print(\"the rea is :%.2f\"%area)\n"
   ]
  },
  {
   "cell_type": "markdown",
   "id": "eb9ac358",
   "metadata": {},
   "source": [
    "## Exercise-2"
   ]
  },
  {
   "cell_type": "markdown",
   "id": "b809afd5",
   "metadata": {},
   "source": [
    "### Create a data frame with details of 10 students and columns as Roll Number, Name, Gender, Marks1, Marks2, Marks3.\n"
   ]
  },
  {
   "cell_type": "code",
   "execution_count": 8,
   "id": "e7534c60",
   "metadata": {},
   "outputs": [],
   "source": [
    "import pandas as pd"
   ]
  },
  {
   "cell_type": "markdown",
   "id": "6b505ab5",
   "metadata": {},
   "source": [
    "#### Create a data frame with details of 10 students and columns as Roll Number, Name, Gender, Marks1, Marks2, Marks3"
   ]
  },
  {
   "cell_type": "code",
   "execution_count": 9,
   "id": "da2220b7",
   "metadata": {
    "scrolled": true
   },
   "outputs": [
    {
     "name": "stdout",
     "output_type": "stream",
     "text": [
      "  Name  Age  Marks1  Marks2  Marks3\n",
      "0    a   20       2      40       2\n",
      "1    b   21       3     233       3\n",
      "2    c   19       4      44       4\n",
      "3    d   18       1     213      21\n",
      "4    e  324      32     432      32\n",
      "5    f    1       4       4       4\n",
      "6    g  234      43      43     433\n",
      "7    h    1      42      42     342\n",
      "8    i    4       3       3       3\n",
      "9    j  134       2       2       2\n"
     ]
    }
   ],
   "source": [
    "data = {\n",
    "    'Name': ['a','b','c','d','e','f','g','h','i','j'],\n",
    "    'Age': [20, 21, 19, 18,324,1,234,1,4,134],\n",
    "    'Marks1':[2,3,4,1,32,4,43,42,3,2],\n",
    "    'Marks2':[40,233,44,213,432,4,43,42,3,2],\n",
    "    'Marks3':[2,3,4,21,32,4,433,342,3,2]\n",
    "}\n",
    "\n",
    "df = pd.DataFrame(data)\n",
    "print(df)"
   ]
  },
  {
   "cell_type": "markdown",
   "id": "db0e2cdc",
   "metadata": {},
   "source": [
    "#### Create a new column with total marks"
   ]
  },
  {
   "cell_type": "code",
   "execution_count": 10,
   "id": "b147e564",
   "metadata": {
    "scrolled": true
   },
   "outputs": [],
   "source": [
    "df.insert(loc=len(df.columns), column=\"Total Marks\", value=df.Marks1 + df.Marks2 + df.Marks3, allow_duplicates=False)"
   ]
  },
  {
   "cell_type": "code",
   "execution_count": 11,
   "id": "b031a138",
   "metadata": {},
   "outputs": [
    {
     "name": "stdout",
     "output_type": "stream",
     "text": [
      "  Name  Age  Marks1  Marks2  Marks3  Total Marks\n",
      "0    a   20       2      40       2           44\n",
      "1    b   21       3     233       3          239\n",
      "2    c   19       4      44       4           52\n",
      "3    d   18       1     213      21          235\n",
      "4    e  324      32     432      32          496\n",
      "5    f    1       4       4       4           12\n",
      "6    g  234      43      43     433          519\n",
      "7    h    1      42      42     342          426\n",
      "8    i    4       3       3       3            9\n",
      "9    j  134       2       2       2            6\n"
     ]
    }
   ],
   "source": [
    "print(df)"
   ]
  },
  {
   "cell_type": "markdown",
   "id": "d2fbe498",
   "metadata": {},
   "source": [
    "#### Find the lowest marks in Marks1"
   ]
  },
  {
   "cell_type": "code",
   "execution_count": 12,
   "id": "88c90b61",
   "metadata": {},
   "outputs": [
    {
     "name": "stdout",
     "output_type": "stream",
     "text": [
      "1\n"
     ]
    }
   ],
   "source": [
    "min_valuem1 = df['Marks1'].min()\n",
    "print(min_valuem1)"
   ]
  },
  {
   "cell_type": "markdown",
   "id": "999673dd",
   "metadata": {},
   "source": [
    "#### Find the Highest marks in Marks2"
   ]
  },
  {
   "cell_type": "code",
   "execution_count": 13,
   "id": "4f4e66bb",
   "metadata": {},
   "outputs": [
    {
     "name": "stdout",
     "output_type": "stream",
     "text": [
      "432\n"
     ]
    }
   ],
   "source": [
    "max_valuem2 = df['Marks2'].max()\n",
    "print(max_valuem2)"
   ]
  },
  {
   "cell_type": "markdown",
   "id": "b23ff43c",
   "metadata": {},
   "source": [
    "#### Find the average marks in Marks3"
   ]
  },
  {
   "cell_type": "code",
   "execution_count": 14,
   "id": "5fbe88b3",
   "metadata": {},
   "outputs": [
    {
     "name": "stdout",
     "output_type": "stream",
     "text": [
      "84.6\n"
     ]
    }
   ],
   "source": [
    "avg=df['Marks3'].sum()\n",
    "print(avg/10)"
   ]
  },
  {
   "cell_type": "markdown",
   "id": "9d7d5d42",
   "metadata": {},
   "source": [
    "#### Find student name with highest average\n"
   ]
  },
  {
   "cell_type": "code",
   "execution_count": 15,
   "id": "0e8671b8",
   "metadata": {
    "scrolled": true
   },
   "outputs": [
    {
     "name": "stdout",
     "output_type": "stream",
     "text": [
      "The student with the highest marks is g.\n"
     ]
    }
   ],
   "source": [
    "max = df['Total Marks'].max()\n",
    "top_student = df[df['Total Marks'] == max]['Name'].values[0]\n",
    "print(f'The student with the highest marks is {top_student}.')"
   ]
  },
  {
   "cell_type": "markdown",
   "id": "34ef7e4b",
   "metadata": {},
   "source": [
    "#### Find how many students failed in Marks2 (<40)"
   ]
  },
  {
   "cell_type": "code",
   "execution_count": 16,
   "id": "2c9e4e73",
   "metadata": {},
   "outputs": [
    {
     "name": "stdout",
     "output_type": "stream",
     "text": [
      "Number of elements below 40: 3\n"
     ]
    }
   ],
   "source": [
    "below = (df['Marks2'] < 40).sum()\n",
    "\n",
    "print(\"Number of elements below 40:\", below)"
   ]
  }
 ],
 "metadata": {
  "kernelspec": {
   "display_name": "Python 3 (ipykernel)",
   "language": "python",
   "name": "python3"
  },
  "language_info": {
   "codemirror_mode": {
    "name": "ipython",
    "version": 3
   },
   "file_extension": ".py",
   "mimetype": "text/x-python",
   "name": "python",
   "nbconvert_exporter": "python",
   "pygments_lexer": "ipython3",
   "version": "3.9.12"
  }
 },
 "nbformat": 4,
 "nbformat_minor": 5
}
